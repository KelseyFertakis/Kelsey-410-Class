{
 "cells": [
  {
   "cell_type": "markdown",
   "metadata": {},
   "source": [
    "Kelsey Fertakis\n",
    "\n",
    "Assignment # 1\n"
   ]
  },
  {
   "cell_type": "code",
   "execution_count": 25,
   "metadata": {
    "collapsed": true
   },
   "outputs": [],
   "source": [
    "require(ggplot2)"
   ]
  },
  {
   "cell_type": "code",
   "execution_count": 26,
   "metadata": {},
   "outputs": [
    {
     "name": "stdout",
     "output_type": "stream",
     "text": [
      "'data.frame':\t768 obs. of  10 variables:\n",
      " $ Relative.Compactness     : num  0.98 0.98 0.98 0.98 0.9 0.9 0.9 0.9 0.86 0.86 ...\n",
      " $ Surface.Area             : num  514 514 514 514 564 ...\n",
      " $ Wall.Area                : num  294 294 294 294 318 ...\n",
      " $ Roof.Area                : num  110 110 110 110 122 ...\n",
      " $ Overall.Height           : num  7 7 7 7 7 7 7 7 7 7 ...\n",
      " $ Orientation              : int  2 3 4 5 2 3 4 5 2 3 ...\n",
      " $ Glazing.Area             : num  0 0 0 0 0 0 0 0 0 0 ...\n",
      " $ Glazing.Area.Distribution: int  0 0 0 0 0 0 0 0 0 0 ...\n",
      " $ Heating.Load             : num  15.6 15.6 15.6 15.6 20.8 ...\n",
      " $ Cooling.Load             : num  21.3 21.3 21.3 21.3 28.3 ...\n"
     ]
    },
    {
     "data": {
      "text/plain": [
       " Relative.Compactness  Surface.Area     Wall.Area       Roof.Area    \n",
       " Min.   :0.6200       Min.   :514.5   Min.   :245.0   Min.   :110.2  \n",
       " 1st Qu.:0.6825       1st Qu.:606.4   1st Qu.:294.0   1st Qu.:140.9  \n",
       " Median :0.7500       Median :673.8   Median :318.5   Median :183.8  \n",
       " Mean   :0.7642       Mean   :671.7   Mean   :318.5   Mean   :176.6  \n",
       " 3rd Qu.:0.8300       3rd Qu.:741.1   3rd Qu.:343.0   3rd Qu.:220.5  \n",
       " Max.   :0.9800       Max.   :808.5   Max.   :416.5   Max.   :220.5  \n",
       " Overall.Height  Orientation    Glazing.Area    Glazing.Area.Distribution\n",
       " Min.   :3.50   Min.   :2.00   Min.   :0.0000   Min.   :0.000            \n",
       " 1st Qu.:3.50   1st Qu.:2.75   1st Qu.:0.1000   1st Qu.:1.750            \n",
       " Median :5.25   Median :3.50   Median :0.2500   Median :3.000            \n",
       " Mean   :5.25   Mean   :3.50   Mean   :0.2344   Mean   :2.812            \n",
       " 3rd Qu.:7.00   3rd Qu.:4.25   3rd Qu.:0.4000   3rd Qu.:4.000            \n",
       " Max.   :7.00   Max.   :5.00   Max.   :0.4000   Max.   :5.000            \n",
       "  Heating.Load    Cooling.Load  \n",
       " Min.   : 6.01   Min.   :10.90  \n",
       " 1st Qu.:12.99   1st Qu.:15.62  \n",
       " Median :18.95   Median :22.08  \n",
       " Mean   :22.31   Mean   :24.59  \n",
       " 3rd Qu.:31.67   3rd Qu.:33.13  \n",
       " Max.   :43.10   Max.   :48.03  "
      ]
     },
     "metadata": {},
     "output_type": "display_data"
    },
    {
     "data": {
      "text/html": [
       "<dl>\n",
       "\t<dt>$Relative.Compactness</dt>\n",
       "\t\t<dd>0.105777475874752</dd>\n",
       "\t<dt>$Surface.Area</dt>\n",
       "\t\t<dd>88.0861160558684</dd>\n",
       "\t<dt>$Wall.Area</dt>\n",
       "\t\t<dd>43.6264814379949</dd>\n",
       "\t<dt>$Roof.Area</dt>\n",
       "\t\t<dd>45.1659502229205</dd>\n",
       "\t<dt>$Overall.Height</dt>\n",
       "\t\t<dd>1.75114043674535</dd>\n",
       "\t<dt>$Orientation</dt>\n",
       "\t\t<dd>1.11876258706036</dd>\n",
       "\t<dt>$Glazing.Area</dt>\n",
       "\t\t<dd>0.133220562914708</dd>\n",
       "\t<dt>$Glazing.Area.Distribution</dt>\n",
       "\t\t<dd>1.55095966422475</dd>\n",
       "\t<dt>$Heating.Load</dt>\n",
       "\t\t<dd>10.0901957320062</dd>\n",
       "\t<dt>$Cooling.Load</dt>\n",
       "\t\t<dd>9.51330556232617</dd>\n",
       "</dl>\n"
      ],
      "text/latex": [
       "\\begin{description}\n",
       "\\item[\\$Relative.Compactness] 0.105777475874752\n",
       "\\item[\\$Surface.Area] 88.0861160558684\n",
       "\\item[\\$Wall.Area] 43.6264814379949\n",
       "\\item[\\$Roof.Area] 45.1659502229205\n",
       "\\item[\\$Overall.Height] 1.75114043674535\n",
       "\\item[\\$Orientation] 1.11876258706036\n",
       "\\item[\\$Glazing.Area] 0.133220562914708\n",
       "\\item[\\$Glazing.Area.Distribution] 1.55095966422475\n",
       "\\item[\\$Heating.Load] 10.0901957320062\n",
       "\\item[\\$Cooling.Load] 9.51330556232617\n",
       "\\end{description}\n"
      ],
      "text/markdown": [
       "$Relative.Compactness\n",
       ":   0.105777475874752\n",
       "$Surface.Area\n",
       ":   88.0861160558684\n",
       "$Wall.Area\n",
       ":   43.6264814379949\n",
       "$Roof.Area\n",
       ":   45.1659502229205\n",
       "$Overall.Height\n",
       ":   1.75114043674535\n",
       "$Orientation\n",
       ":   1.11876258706036\n",
       "$Glazing.Area\n",
       ":   0.133220562914708\n",
       "$Glazing.Area.Distribution\n",
       ":   1.55095966422475\n",
       "$Heating.Load\n",
       ":   10.0901957320062\n",
       "$Cooling.Load\n",
       ":   9.51330556232617\n",
       "\n",
       "\n"
      ],
      "text/plain": [
       "$Relative.Compactness\n",
       "[1] 0.1057775\n",
       "\n",
       "$Surface.Area\n",
       "[1] 88.08612\n",
       "\n",
       "$Wall.Area\n",
       "[1] 43.62648\n",
       "\n",
       "$Roof.Area\n",
       "[1] 45.16595\n",
       "\n",
       "$Overall.Height\n",
       "[1] 1.75114\n",
       "\n",
       "$Orientation\n",
       "[1] 1.118763\n",
       "\n",
       "$Glazing.Area\n",
       "[1] 0.1332206\n",
       "\n",
       "$Glazing.Area.Distribution\n",
       "[1] 1.55096\n",
       "\n",
       "$Heating.Load\n",
       "[1] 10.0902\n",
       "\n",
       "$Cooling.Load\n",
       "[1] 9.513306\n"
      ]
     },
     "metadata": {},
     "output_type": "display_data"
    },
    {
     "data": {
      "text/html": [
       "<table>\n",
       "<thead><tr><th scope=col>Relative.Compactness</th><th scope=col>Surface.Area</th><th scope=col>Wall.Area</th><th scope=col>Roof.Area</th><th scope=col>Overall.Height</th><th scope=col>Orientation</th><th scope=col>Glazing.Area</th><th scope=col>Glazing.Area.Distribution</th><th scope=col>Heating.Load</th><th scope=col>Cooling.Load</th></tr></thead>\n",
       "<tbody>\n",
       "\t<tr><td>0.98  </td><td>514.5 </td><td>294.0 </td><td>110.25</td><td>7     </td><td>2     </td><td>0     </td><td>0     </td><td>15.55 </td><td>21.33 </td></tr>\n",
       "\t<tr><td>0.98  </td><td>514.5 </td><td>294.0 </td><td>110.25</td><td>7     </td><td>3     </td><td>0     </td><td>0     </td><td>15.55 </td><td>21.33 </td></tr>\n",
       "\t<tr><td>0.98  </td><td>514.5 </td><td>294.0 </td><td>110.25</td><td>7     </td><td>4     </td><td>0     </td><td>0     </td><td>15.55 </td><td>21.33 </td></tr>\n",
       "\t<tr><td>0.98  </td><td>514.5 </td><td>294.0 </td><td>110.25</td><td>7     </td><td>5     </td><td>0     </td><td>0     </td><td>15.55 </td><td>21.33 </td></tr>\n",
       "\t<tr><td>0.90  </td><td>563.5 </td><td>318.5 </td><td>122.50</td><td>7     </td><td>2     </td><td>0     </td><td>0     </td><td>20.84 </td><td>28.28 </td></tr>\n",
       "\t<tr><td>0.90  </td><td>563.5 </td><td>318.5 </td><td>122.50</td><td>7     </td><td>3     </td><td>0     </td><td>0     </td><td>21.46 </td><td>25.38 </td></tr>\n",
       "\t<tr><td>0.90  </td><td>563.5 </td><td>318.5 </td><td>122.50</td><td>7     </td><td>4     </td><td>0     </td><td>0     </td><td>20.71 </td><td>25.16 </td></tr>\n",
       "\t<tr><td>0.90  </td><td>563.5 </td><td>318.5 </td><td>122.50</td><td>7     </td><td>5     </td><td>0     </td><td>0     </td><td>19.68 </td><td>29.60 </td></tr>\n",
       "\t<tr><td>0.86  </td><td>588.0 </td><td>294.0 </td><td>147.00</td><td>7     </td><td>2     </td><td>0     </td><td>0     </td><td>19.50 </td><td>27.30 </td></tr>\n",
       "\t<tr><td>0.86  </td><td>588.0 </td><td>294.0 </td><td>147.00</td><td>7     </td><td>3     </td><td>0     </td><td>0     </td><td>19.95 </td><td>21.97 </td></tr>\n",
       "</tbody>\n",
       "</table>\n"
      ],
      "text/latex": [
       "\\begin{tabular}{r|llllllllll}\n",
       " Relative.Compactness & Surface.Area & Wall.Area & Roof.Area & Overall.Height & Orientation & Glazing.Area & Glazing.Area.Distribution & Heating.Load & Cooling.Load\\\\\n",
       "\\hline\n",
       "\t 0.98   & 514.5  & 294.0  & 110.25 & 7      & 2      & 0      & 0      & 15.55  & 21.33 \\\\\n",
       "\t 0.98   & 514.5  & 294.0  & 110.25 & 7      & 3      & 0      & 0      & 15.55  & 21.33 \\\\\n",
       "\t 0.98   & 514.5  & 294.0  & 110.25 & 7      & 4      & 0      & 0      & 15.55  & 21.33 \\\\\n",
       "\t 0.98   & 514.5  & 294.0  & 110.25 & 7      & 5      & 0      & 0      & 15.55  & 21.33 \\\\\n",
       "\t 0.90   & 563.5  & 318.5  & 122.50 & 7      & 2      & 0      & 0      & 20.84  & 28.28 \\\\\n",
       "\t 0.90   & 563.5  & 318.5  & 122.50 & 7      & 3      & 0      & 0      & 21.46  & 25.38 \\\\\n",
       "\t 0.90   & 563.5  & 318.5  & 122.50 & 7      & 4      & 0      & 0      & 20.71  & 25.16 \\\\\n",
       "\t 0.90   & 563.5  & 318.5  & 122.50 & 7      & 5      & 0      & 0      & 19.68  & 29.60 \\\\\n",
       "\t 0.86   & 588.0  & 294.0  & 147.00 & 7      & 2      & 0      & 0      & 19.50  & 27.30 \\\\\n",
       "\t 0.86   & 588.0  & 294.0  & 147.00 & 7      & 3      & 0      & 0      & 19.95  & 21.97 \\\\\n",
       "\\end{tabular}\n"
      ],
      "text/markdown": [
       "\n",
       "Relative.Compactness | Surface.Area | Wall.Area | Roof.Area | Overall.Height | Orientation | Glazing.Area | Glazing.Area.Distribution | Heating.Load | Cooling.Load | \n",
       "|---|---|---|---|---|---|---|---|---|---|\n",
       "| 0.98   | 514.5  | 294.0  | 110.25 | 7      | 2      | 0      | 0      | 15.55  | 21.33  | \n",
       "| 0.98   | 514.5  | 294.0  | 110.25 | 7      | 3      | 0      | 0      | 15.55  | 21.33  | \n",
       "| 0.98   | 514.5  | 294.0  | 110.25 | 7      | 4      | 0      | 0      | 15.55  | 21.33  | \n",
       "| 0.98   | 514.5  | 294.0  | 110.25 | 7      | 5      | 0      | 0      | 15.55  | 21.33  | \n",
       "| 0.90   | 563.5  | 318.5  | 122.50 | 7      | 2      | 0      | 0      | 20.84  | 28.28  | \n",
       "| 0.90   | 563.5  | 318.5  | 122.50 | 7      | 3      | 0      | 0      | 21.46  | 25.38  | \n",
       "| 0.90   | 563.5  | 318.5  | 122.50 | 7      | 4      | 0      | 0      | 20.71  | 25.16  | \n",
       "| 0.90   | 563.5  | 318.5  | 122.50 | 7      | 5      | 0      | 0      | 19.68  | 29.60  | \n",
       "| 0.86   | 588.0  | 294.0  | 147.00 | 7      | 2      | 0      | 0      | 19.50  | 27.30  | \n",
       "| 0.86   | 588.0  | 294.0  | 147.00 | 7      | 3      | 0      | 0      | 19.95  | 21.97  | \n",
       "\n",
       "\n"
      ],
      "text/plain": [
       "   Relative.Compactness Surface.Area Wall.Area Roof.Area Overall.Height\n",
       "1  0.98                 514.5        294.0     110.25    7             \n",
       "2  0.98                 514.5        294.0     110.25    7             \n",
       "3  0.98                 514.5        294.0     110.25    7             \n",
       "4  0.98                 514.5        294.0     110.25    7             \n",
       "5  0.90                 563.5        318.5     122.50    7             \n",
       "6  0.90                 563.5        318.5     122.50    7             \n",
       "7  0.90                 563.5        318.5     122.50    7             \n",
       "8  0.90                 563.5        318.5     122.50    7             \n",
       "9  0.86                 588.0        294.0     147.00    7             \n",
       "10 0.86                 588.0        294.0     147.00    7             \n",
       "   Orientation Glazing.Area Glazing.Area.Distribution Heating.Load Cooling.Load\n",
       "1  2           0            0                         15.55        21.33       \n",
       "2  3           0            0                         15.55        21.33       \n",
       "3  4           0            0                         15.55        21.33       \n",
       "4  5           0            0                         15.55        21.33       \n",
       "5  2           0            0                         20.84        28.28       \n",
       "6  3           0            0                         21.46        25.38       \n",
       "7  4           0            0                         20.71        25.16       \n",
       "8  5           0            0                         19.68        29.60       \n",
       "9  2           0            0                         19.50        27.30       \n",
       "10 3           0            0                         19.95        21.97       "
      ]
     },
     "metadata": {},
     "output_type": "display_data"
    },
    {
     "data": {
      "text/html": [
       "<table>\n",
       "<thead><tr><th></th><th scope=col>Relative.Compactness</th><th scope=col>Surface.Area</th><th scope=col>Wall.Area</th><th scope=col>Roof.Area</th><th scope=col>Overall.Height</th><th scope=col>Orientation</th><th scope=col>Glazing.Area</th><th scope=col>Glazing.Area.Distribution</th><th scope=col>Heating.Load</th><th scope=col>Cooling.Load</th></tr></thead>\n",
       "<tbody>\n",
       "\t<tr><th scope=row>763</th><td>0.64 </td><td>784.0</td><td>343.0</td><td>220.5</td><td>3.5  </td><td>4    </td><td>0.4  </td><td>5    </td><td>18.16</td><td>20.71</td></tr>\n",
       "\t<tr><th scope=row>764</th><td>0.64 </td><td>784.0</td><td>343.0</td><td>220.5</td><td>3.5  </td><td>5    </td><td>0.4  </td><td>5    </td><td>17.88</td><td>21.40</td></tr>\n",
       "\t<tr><th scope=row>765</th><td>0.62 </td><td>808.5</td><td>367.5</td><td>220.5</td><td>3.5  </td><td>2    </td><td>0.4  </td><td>5    </td><td>16.54</td><td>16.88</td></tr>\n",
       "\t<tr><th scope=row>766</th><td>0.62 </td><td>808.5</td><td>367.5</td><td>220.5</td><td>3.5  </td><td>3    </td><td>0.4  </td><td>5    </td><td>16.44</td><td>17.11</td></tr>\n",
       "\t<tr><th scope=row>767</th><td>0.62 </td><td>808.5</td><td>367.5</td><td>220.5</td><td>3.5  </td><td>4    </td><td>0.4  </td><td>5    </td><td>16.48</td><td>16.61</td></tr>\n",
       "\t<tr><th scope=row>768</th><td>0.62 </td><td>808.5</td><td>367.5</td><td>220.5</td><td>3.5  </td><td>5    </td><td>0.4  </td><td>5    </td><td>16.64</td><td>16.03</td></tr>\n",
       "</tbody>\n",
       "</table>\n"
      ],
      "text/latex": [
       "\\begin{tabular}{r|llllllllll}\n",
       "  & Relative.Compactness & Surface.Area & Wall.Area & Roof.Area & Overall.Height & Orientation & Glazing.Area & Glazing.Area.Distribution & Heating.Load & Cooling.Load\\\\\n",
       "\\hline\n",
       "\t763 & 0.64  & 784.0 & 343.0 & 220.5 & 3.5   & 4     & 0.4   & 5     & 18.16 & 20.71\\\\\n",
       "\t764 & 0.64  & 784.0 & 343.0 & 220.5 & 3.5   & 5     & 0.4   & 5     & 17.88 & 21.40\\\\\n",
       "\t765 & 0.62  & 808.5 & 367.5 & 220.5 & 3.5   & 2     & 0.4   & 5     & 16.54 & 16.88\\\\\n",
       "\t766 & 0.62  & 808.5 & 367.5 & 220.5 & 3.5   & 3     & 0.4   & 5     & 16.44 & 17.11\\\\\n",
       "\t767 & 0.62  & 808.5 & 367.5 & 220.5 & 3.5   & 4     & 0.4   & 5     & 16.48 & 16.61\\\\\n",
       "\t768 & 0.62  & 808.5 & 367.5 & 220.5 & 3.5   & 5     & 0.4   & 5     & 16.64 & 16.03\\\\\n",
       "\\end{tabular}\n"
      ],
      "text/markdown": [
       "\n",
       "| <!--/--> | Relative.Compactness | Surface.Area | Wall.Area | Roof.Area | Overall.Height | Orientation | Glazing.Area | Glazing.Area.Distribution | Heating.Load | Cooling.Load | \n",
       "|---|---|---|---|---|---|\n",
       "| 763 | 0.64  | 784.0 | 343.0 | 220.5 | 3.5   | 4     | 0.4   | 5     | 18.16 | 20.71 | \n",
       "| 764 | 0.64  | 784.0 | 343.0 | 220.5 | 3.5   | 5     | 0.4   | 5     | 17.88 | 21.40 | \n",
       "| 765 | 0.62  | 808.5 | 367.5 | 220.5 | 3.5   | 2     | 0.4   | 5     | 16.54 | 16.88 | \n",
       "| 766 | 0.62  | 808.5 | 367.5 | 220.5 | 3.5   | 3     | 0.4   | 5     | 16.44 | 17.11 | \n",
       "| 767 | 0.62  | 808.5 | 367.5 | 220.5 | 3.5   | 4     | 0.4   | 5     | 16.48 | 16.61 | \n",
       "| 768 | 0.62  | 808.5 | 367.5 | 220.5 | 3.5   | 5     | 0.4   | 5     | 16.64 | 16.03 | \n",
       "\n",
       "\n"
      ],
      "text/plain": [
       "    Relative.Compactness Surface.Area Wall.Area Roof.Area Overall.Height\n",
       "763 0.64                 784.0        343.0     220.5     3.5           \n",
       "764 0.64                 784.0        343.0     220.5     3.5           \n",
       "765 0.62                 808.5        367.5     220.5     3.5           \n",
       "766 0.62                 808.5        367.5     220.5     3.5           \n",
       "767 0.62                 808.5        367.5     220.5     3.5           \n",
       "768 0.62                 808.5        367.5     220.5     3.5           \n",
       "    Orientation Glazing.Area Glazing.Area.Distribution Heating.Load\n",
       "763 4           0.4          5                         18.16       \n",
       "764 5           0.4          5                         17.88       \n",
       "765 2           0.4          5                         16.54       \n",
       "766 3           0.4          5                         16.44       \n",
       "767 4           0.4          5                         16.48       \n",
       "768 5           0.4          5                         16.64       \n",
       "    Cooling.Load\n",
       "763 20.71       \n",
       "764 21.40       \n",
       "765 16.88       \n",
       "766 17.11       \n",
       "767 16.61       \n",
       "768 16.03       "
      ]
     },
     "metadata": {},
     "output_type": "display_data"
    },
    {
     "data": {
      "text/plain": [
       "\n",
       "  2   3   4   5 \n",
       "192 192 192 192 "
      ]
     },
     "metadata": {},
     "output_type": "display_data"
    },
    {
     "data": {
      "text/plain": [
       "\n",
       "  0   1   2   3   4   5 \n",
       " 48 144 144 144 144 144 "
      ]
     },
     "metadata": {},
     "output_type": "display_data"
    },
    {
     "data": {
      "text/plain": [
       "\n",
       "3.5   7 \n",
       "384 384 "
      ]
     },
     "metadata": {},
     "output_type": "display_data"
    },
    {
     "data": {
      "text/html": [
       "<table>\n",
       "<thead><tr><th></th><th scope=col>Relative.Compactness</th><th scope=col>Surface.Area</th><th scope=col>Wall.Area</th><th scope=col>Roof.Area</th><th scope=col>Overall.Height</th><th scope=col>Orientation</th><th scope=col>Glazing.Area</th><th scope=col>Glazing.Area.Distribution</th><th scope=col>Heating.Load</th><th scope=col>Cooling.Load</th></tr></thead>\n",
       "<tbody>\n",
       "\t<tr><th scope=row>Relative.Compactness</th><td> 1.0000</td><td>-0.9919</td><td>-0.2038</td><td>-0.8688</td><td> 0.8277</td><td> 0.0000</td><td>0.0000 </td><td>0.0000 </td><td> 0.6223</td><td> 0.6343</td></tr>\n",
       "\t<tr><th scope=row>Surface.Area</th><td>-0.9919</td><td> 1.0000</td><td> 0.1955</td><td> 0.8807</td><td>-0.8581</td><td> 0.0000</td><td>0.0000 </td><td>0.0000 </td><td>-0.6581</td><td>-0.6730</td></tr>\n",
       "\t<tr><th scope=row>Wall.Area</th><td>-0.2038</td><td> 0.1955</td><td> 1.0000</td><td>-0.2923</td><td> 0.2810</td><td> 0.0000</td><td>0.0000 </td><td>0.0000 </td><td> 0.4557</td><td> 0.4271</td></tr>\n",
       "\t<tr><th scope=row>Roof.Area</th><td>-0.8688</td><td> 0.8807</td><td>-0.2923</td><td> 1.0000</td><td>-0.9725</td><td> 0.0000</td><td>0.0000 </td><td>0.0000 </td><td>-0.8618</td><td>-0.8625</td></tr>\n",
       "\t<tr><th scope=row>Overall.Height</th><td> 0.8277</td><td>-0.8581</td><td> 0.2810</td><td>-0.9725</td><td> 1.0000</td><td> 0.0000</td><td>0.0000 </td><td>0.0000 </td><td> 0.8894</td><td> 0.8958</td></tr>\n",
       "\t<tr><th scope=row>Orientation</th><td> 0.0000</td><td> 0.0000</td><td> 0.0000</td><td> 0.0000</td><td> 0.0000</td><td> 1.0000</td><td>0.0000 </td><td>0.0000 </td><td>-0.0026</td><td> 0.0143</td></tr>\n",
       "\t<tr><th scope=row>Glazing.Area</th><td> 0.0000</td><td> 0.0000</td><td> 0.0000</td><td> 0.0000</td><td> 0.0000</td><td> 0.0000</td><td>1.0000 </td><td>0.2130 </td><td> 0.2698</td><td> 0.2075</td></tr>\n",
       "\t<tr><th scope=row>Glazing.Area.Distribution</th><td> 0.0000</td><td> 0.0000</td><td> 0.0000</td><td> 0.0000</td><td> 0.0000</td><td> 0.0000</td><td>0.2130 </td><td>1.0000 </td><td> 0.0874</td><td> 0.0505</td></tr>\n",
       "\t<tr><th scope=row>Heating.Load</th><td> 0.6223</td><td>-0.6581</td><td> 0.4557</td><td>-0.8618</td><td> 0.8894</td><td>-0.0026</td><td>0.2698 </td><td>0.0874 </td><td> 1.0000</td><td> 0.9759</td></tr>\n",
       "\t<tr><th scope=row>Cooling.Load</th><td> 0.6343</td><td>-0.6730</td><td> 0.4271</td><td>-0.8625</td><td> 0.8958</td><td> 0.0143</td><td>0.2075 </td><td>0.0505 </td><td> 0.9759</td><td> 1.0000</td></tr>\n",
       "</tbody>\n",
       "</table>\n"
      ],
      "text/latex": [
       "\\begin{tabular}{r|llllllllll}\n",
       "  & Relative.Compactness & Surface.Area & Wall.Area & Roof.Area & Overall.Height & Orientation & Glazing.Area & Glazing.Area.Distribution & Heating.Load & Cooling.Load\\\\\n",
       "\\hline\n",
       "\tRelative.Compactness &  1.0000 & -0.9919 & -0.2038 & -0.8688 &  0.8277 &  0.0000 & 0.0000  & 0.0000  &  0.6223 &  0.6343\\\\\n",
       "\tSurface.Area & -0.9919 &  1.0000 &  0.1955 &  0.8807 & -0.8581 &  0.0000 & 0.0000  & 0.0000  & -0.6581 & -0.6730\\\\\n",
       "\tWall.Area & -0.2038 &  0.1955 &  1.0000 & -0.2923 &  0.2810 &  0.0000 & 0.0000  & 0.0000  &  0.4557 &  0.4271\\\\\n",
       "\tRoof.Area & -0.8688 &  0.8807 & -0.2923 &  1.0000 & -0.9725 &  0.0000 & 0.0000  & 0.0000  & -0.8618 & -0.8625\\\\\n",
       "\tOverall.Height &  0.8277 & -0.8581 &  0.2810 & -0.9725 &  1.0000 &  0.0000 & 0.0000  & 0.0000  &  0.8894 &  0.8958\\\\\n",
       "\tOrientation &  0.0000 &  0.0000 &  0.0000 &  0.0000 &  0.0000 &  1.0000 & 0.0000  & 0.0000  & -0.0026 &  0.0143\\\\\n",
       "\tGlazing.Area &  0.0000 &  0.0000 &  0.0000 &  0.0000 &  0.0000 &  0.0000 & 1.0000  & 0.2130  &  0.2698 &  0.2075\\\\\n",
       "\tGlazing.Area.Distribution &  0.0000 &  0.0000 &  0.0000 &  0.0000 &  0.0000 &  0.0000 & 0.2130  & 1.0000  &  0.0874 &  0.0505\\\\\n",
       "\tHeating.Load &  0.6223 & -0.6581 &  0.4557 & -0.8618 &  0.8894 & -0.0026 & 0.2698  & 0.0874  &  1.0000 &  0.9759\\\\\n",
       "\tCooling.Load &  0.6343 & -0.6730 &  0.4271 & -0.8625 &  0.8958 &  0.0143 & 0.2075  & 0.0505  &  0.9759 &  1.0000\\\\\n",
       "\\end{tabular}\n"
      ],
      "text/markdown": [
       "\n",
       "| <!--/--> | Relative.Compactness | Surface.Area | Wall.Area | Roof.Area | Overall.Height | Orientation | Glazing.Area | Glazing.Area.Distribution | Heating.Load | Cooling.Load | \n",
       "|---|---|---|---|---|---|---|---|---|---|\n",
       "| Relative.Compactness |  1.0000 | -0.9919 | -0.2038 | -0.8688 |  0.8277 |  0.0000 | 0.0000  | 0.0000  |  0.6223 |  0.6343 | \n",
       "| Surface.Area | -0.9919 |  1.0000 |  0.1955 |  0.8807 | -0.8581 |  0.0000 | 0.0000  | 0.0000  | -0.6581 | -0.6730 | \n",
       "| Wall.Area | -0.2038 |  0.1955 |  1.0000 | -0.2923 |  0.2810 |  0.0000 | 0.0000  | 0.0000  |  0.4557 |  0.4271 | \n",
       "| Roof.Area | -0.8688 |  0.8807 | -0.2923 |  1.0000 | -0.9725 |  0.0000 | 0.0000  | 0.0000  | -0.8618 | -0.8625 | \n",
       "| Overall.Height |  0.8277 | -0.8581 |  0.2810 | -0.9725 |  1.0000 |  0.0000 | 0.0000  | 0.0000  |  0.8894 |  0.8958 | \n",
       "| Orientation |  0.0000 |  0.0000 |  0.0000 |  0.0000 |  0.0000 |  1.0000 | 0.0000  | 0.0000  | -0.0026 |  0.0143 | \n",
       "| Glazing.Area |  0.0000 |  0.0000 |  0.0000 |  0.0000 |  0.0000 |  0.0000 | 1.0000  | 0.2130  |  0.2698 |  0.2075 | \n",
       "| Glazing.Area.Distribution |  0.0000 |  0.0000 |  0.0000 |  0.0000 |  0.0000 |  0.0000 | 0.2130  | 1.0000  |  0.0874 |  0.0505 | \n",
       "| Heating.Load |  0.6223 | -0.6581 |  0.4557 | -0.8618 |  0.8894 | -0.0026 | 0.2698  | 0.0874  |  1.0000 |  0.9759 | \n",
       "| Cooling.Load |  0.6343 | -0.6730 |  0.4271 | -0.8625 |  0.8958 |  0.0143 | 0.2075  | 0.0505  |  0.9759 |  1.0000 | \n",
       "\n",
       "\n"
      ],
      "text/plain": [
       "                          Relative.Compactness Surface.Area Wall.Area Roof.Area\n",
       "Relative.Compactness       1.0000              -0.9919      -0.2038   -0.8688  \n",
       "Surface.Area              -0.9919               1.0000       0.1955    0.8807  \n",
       "Wall.Area                 -0.2038               0.1955       1.0000   -0.2923  \n",
       "Roof.Area                 -0.8688               0.8807      -0.2923    1.0000  \n",
       "Overall.Height             0.8277              -0.8581       0.2810   -0.9725  \n",
       "Orientation                0.0000               0.0000       0.0000    0.0000  \n",
       "Glazing.Area               0.0000               0.0000       0.0000    0.0000  \n",
       "Glazing.Area.Distribution  0.0000               0.0000       0.0000    0.0000  \n",
       "Heating.Load               0.6223              -0.6581       0.4557   -0.8618  \n",
       "Cooling.Load               0.6343              -0.6730       0.4271   -0.8625  \n",
       "                          Overall.Height Orientation Glazing.Area\n",
       "Relative.Compactness       0.8277         0.0000     0.0000      \n",
       "Surface.Area              -0.8581         0.0000     0.0000      \n",
       "Wall.Area                  0.2810         0.0000     0.0000      \n",
       "Roof.Area                 -0.9725         0.0000     0.0000      \n",
       "Overall.Height             1.0000         0.0000     0.0000      \n",
       "Orientation                0.0000         1.0000     0.0000      \n",
       "Glazing.Area               0.0000         0.0000     1.0000      \n",
       "Glazing.Area.Distribution  0.0000         0.0000     0.2130      \n",
       "Heating.Load               0.8894        -0.0026     0.2698      \n",
       "Cooling.Load               0.8958         0.0143     0.2075      \n",
       "                          Glazing.Area.Distribution Heating.Load Cooling.Load\n",
       "Relative.Compactness      0.0000                     0.6223       0.6343     \n",
       "Surface.Area              0.0000                    -0.6581      -0.6730     \n",
       "Wall.Area                 0.0000                     0.4557       0.4271     \n",
       "Roof.Area                 0.0000                    -0.8618      -0.8625     \n",
       "Overall.Height            0.0000                     0.8894       0.8958     \n",
       "Orientation               0.0000                    -0.0026       0.0143     \n",
       "Glazing.Area              0.2130                     0.2698       0.2075     \n",
       "Glazing.Area.Distribution 1.0000                     0.0874       0.0505     \n",
       "Heating.Load              0.0874                     1.0000       0.9759     \n",
       "Cooling.Load              0.0505                     0.9759       1.0000     "
      ]
     },
     "metadata": {},
     "output_type": "display_data"
    },
    {
     "data": {},
     "metadata": {},
     "output_type": "display_data"
    },
    {
     "data": {
      "image/png": "[encoded data removed]",
      "text/plain": [
       "plot without title"
      ]
     },
     "metadata": {},
     "output_type": "display_data"
    }
   ],
   "source": [
    "read.energy = function(file = 'EnergyEfficiencyData.csv'){\n",
    "  ## Read the csv file\n",
    "  Energy.Efficiency <- read.csv(file, header = TRUE, \n",
    "                         stringsAsFactors = FALSE)}\n",
    "Energy.Efficiency = read.energy()\n",
    "\n",
    "#Setting orientation, Glazing Area Distribution, and Overall Height\n",
    "#to factors for later examination\n",
    "#Energy.Efficiency$Orientation <- factor(Energy.Efficiency$Orientation)\n",
    "#Energy.Efficiency$Glazing.Area.Distribution <- factor(Energy.Efficiency$Glazing.Area.Distribution)\n",
    "#Energy.Efficiency$Overall.Height <- factor(Energy.Efficiency$Overall.Height)\n",
    "\n",
    "str(Energy.Efficiency)\n",
    "summary(Energy.Efficiency)\n",
    "lapply(Energy.Efficiency, sd)\n",
    "head(Energy.Efficiency, n =10)\n",
    "tail(Energy.Efficiency)\n",
    "\n",
    "table(Energy.Efficiency$Orientation)\n",
    "table(Energy.Efficiency$Glazing.Area.Distribution)\n",
    "table(Energy.Efficiency$Overall.Height)\n",
    "round(cor(Energy.Efficiency),4)\n",
    "\n",
    "require(ggplot2)\n",
    "\n",
    "#Checking Cooling loads compared to overall height of the buildings\n",
    "ggplot(Energy.Efficiency,aes(x = factor(Energy.Efficiency$Overall.Height), y = Energy.Efficiency$Cooling.Load)) + \n",
    "  geom_boxplot() + xlab('Height') + ggtitle('Cooling Load by Height')\n",
    "\n",
    "\n"
   ]
  }
 ],
 "metadata": {
  "kernelspec": {
   "display_name": "R",
   "language": "R",
   "name": "ir"
  },
  "language_info": {
   "codemirror_mode": "r",
   "file_extension": ".r",
   "mimetype": "text/x-r-source",
   "name": "R",
   "pygments_lexer": "r",
   "version": "3.4.2"
  }
 },
 "nbformat": 4,
 "nbformat_minor": 2
}
